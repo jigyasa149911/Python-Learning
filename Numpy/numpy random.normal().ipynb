{
 "cells": [
  {
   "cell_type": "code",
   "execution_count": 1,
   "metadata": {},
   "outputs": [],
   "source": [
    "import numpy as np\n",
    "# To generate random numbers for Gaussian distribution we use numpy.random.normal() function.\n",
    "# Syntax:\n",
    "# numpy.random.normal(loc,scale,size)\n",
    "# loc : The Mean. The center of distribution.\n",
    "# scale : Standard deviation.\n",
    "# size : number of returns ."
   ]
  },
  {
   "cell_type": "code",
   "execution_count": 2,
   "metadata": {},
   "outputs": [
    {
     "data": {
      "text/plain": [
       "array([1, 2, 3])"
      ]
     },
     "execution_count": 2,
     "metadata": {},
     "output_type": "execute_result"
    }
   ],
   "source": [
    "a=np.array([1,2,3])\n",
    "a"
   ]
  },
  {
   "cell_type": "code",
   "execution_count": 3,
   "metadata": {},
   "outputs": [
    {
     "data": {
      "text/plain": [
       "array([5.27637924, 4.49808586, 5.14327502, 5.20391991, 5.52243585,\n",
       "       5.54468821, 5.21930502, 6.24460446, 4.60006825, 4.99298599])"
      ]
     },
     "execution_count": 3,
     "metadata": {},
     "output_type": "execute_result"
    }
   ],
   "source": [
    "randoM=np.random.normal(5,0.5,10) # If we plot ouput of this we will get a normal distribution or bell curve.\n",
    "randoM"
   ]
  },
  {
   "cell_type": "code",
   "execution_count": 4,
   "metadata": {},
   "outputs": [
    {
     "data": {
      "text/plain": [
       "array([8.38237806, 8.50953291, 9.27182319, 9.50692673, 8.76797819,\n",
       "       8.42780523, 9.0812492 , 8.67838918, 9.47903011, 9.78897958])"
      ]
     },
     "execution_count": 4,
     "metadata": {},
     "output_type": "execute_result"
    }
   ],
   "source": [
    "randoM=np.random.normal(9,0.5,10)\n",
    "randoM"
   ]
  }
 ],
 "metadata": {
  "kernelspec": {
   "display_name": "Python 3",
   "language": "python",
   "name": "python3"
  },
  "language_info": {
   "codemirror_mode": {
    "name": "ipython",
    "version": 3
   },
   "file_extension": ".py",
   "mimetype": "text/x-python",
   "name": "python",
   "nbconvert_exporter": "python",
   "pygments_lexer": "ipython3",
   "version": "3.6.5"
  }
 },
 "nbformat": 4,
 "nbformat_minor": 2
}
