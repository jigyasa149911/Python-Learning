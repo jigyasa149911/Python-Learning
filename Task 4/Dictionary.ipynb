{
 "cells": [
  {
   "cell_type": "code",
   "execution_count": 1,
   "metadata": {},
   "outputs": [
    {
     "data": {
      "text/plain": [
       "{'Name': 'Ayush', 'Age': 29, 'salary': 25000, 'company': 'tcs'}"
      ]
     },
     "execution_count": 1,
     "metadata": {},
     "output_type": "execute_result"
    }
   ],
   "source": [
    "employee={'Name':'Ayush','Age':29,'salary':25000,'company':'tcs'}\n",
    "employee"
   ]
  },
  {
   "cell_type": "code",
   "execution_count": 2,
   "metadata": {},
   "outputs": [
    {
     "name": "stdout",
     "output_type": "stream",
     "text": [
      "<class 'dict'>\n"
     ]
    }
   ],
   "source": [
    "print(type(employee))"
   ]
  },
  {
   "cell_type": "code",
   "execution_count": 3,
   "metadata": {},
   "outputs": [
    {
     "name": "stdout",
     "output_type": "stream",
     "text": [
      "Name:Ayush\n",
      "company:tcs\n",
      "Age:29\n",
      "Salary:25000\n"
     ]
    }
   ],
   "source": [
    "#accessing ditionary items.\n",
    "\n",
    "print('Name:%s'%(employee['Name']))\n",
    "print('company:%s'%(employee['company']))\n",
    "print('Age:%d'%(employee['Age']))\n",
    "print('Salary:%d'%(employee['salary']))"
   ]
  },
  {
   "cell_type": "code",
   "execution_count": 4,
   "metadata": {},
   "outputs": [
    {
     "name": "stdout",
     "output_type": "stream",
     "text": [
      "Name\n",
      "Age\n",
      "salary\n",
      "company\n"
     ]
    }
   ],
   "source": [
    "# for loop to print all keys of dict.\n",
    "for i in employee:\n",
    "    print(i)"
   ]
  },
  {
   "cell_type": "code",
   "execution_count": 5,
   "metadata": {},
   "outputs": [
    {
     "name": "stdout",
     "output_type": "stream",
     "text": [
      "Ayush\n",
      "29\n",
      "25000\n",
      "tcs\n"
     ]
    }
   ],
   "source": [
    "# for loop to print all values of dict.\n",
    "for i in employee:\n",
    "    print(employee[i])\n"
   ]
  },
  {
   "cell_type": "code",
   "execution_count": 6,
   "metadata": {},
   "outputs": [
    {
     "name": "stdout",
     "output_type": "stream",
     "text": [
      "Ayush\n",
      "29\n",
      "25000\n",
      "tcs\n"
     ]
    }
   ],
   "source": [
    "#for loop for printing values of dict using values().\n",
    "for i in employee.values():\n",
    "    print(i)"
   ]
  },
  {
   "cell_type": "code",
   "execution_count": 7,
   "metadata": {},
   "outputs": [
    {
     "name": "stdout",
     "output_type": "stream",
     "text": [
      "Name\n",
      "Age\n",
      "salary\n",
      "company\n"
     ]
    }
   ],
   "source": [
    "#for loop for printing keys of dict using keys().\n",
    "for i in employee.keys():\n",
    "    print(i)"
   ]
  },
  {
   "cell_type": "code",
   "execution_count": 8,
   "metadata": {},
   "outputs": [
    {
     "name": "stdout",
     "output_type": "stream",
     "text": [
      "Name Ayush\n",
      "Age 29\n",
      "salary 25000\n",
      "company tcs\n"
     ]
    }
   ],
   "source": [
    "#for loop for printing items of dict using items().\n",
    "for i,j in employee.items():\n",
    "    print(i,j)"
   ]
  },
  {
   "cell_type": "code",
   "execution_count": 9,
   "metadata": {},
   "outputs": [
    {
     "name": "stdout",
     "output_type": "stream",
     "text": [
      "4\n"
     ]
    }
   ],
   "source": [
    "print(len(employee))"
   ]
  },
  {
   "cell_type": "code",
   "execution_count": 10,
   "metadata": {},
   "outputs": [
    {
     "name": "stdout",
     "output_type": "stream",
     "text": [
      "{'Name': 'Ayush', 'Age': 29, 'salary': 25000, 'company': 'tcs'}\n"
     ]
    }
   ],
   "source": [
    "x=str(employee) # converts dict. into printable string representation.\n",
    "print(x)"
   ]
  },
  {
   "cell_type": "code",
   "execution_count": 11,
   "metadata": {},
   "outputs": [
    {
     "name": "stdout",
     "output_type": "stream",
     "text": [
      "dict_items([('Name', 'Ayush'), ('Age', 29), ('salary', 25000), ('company', 'tcs')])\n"
     ]
    }
   ],
   "source": [
    "y=employee.items() #returns dict. items.\n",
    "print(y)"
   ]
  },
  {
   "cell_type": "code",
   "execution_count": 12,
   "metadata": {},
   "outputs": [
    {
     "name": "stdout",
     "output_type": "stream",
     "text": [
      "dict_keys(['Name', 'Age', 'salary', 'company'])\n"
     ]
    }
   ],
   "source": [
    "z=employee.keys() #returns keys of dict.\n",
    "print(z)"
   ]
  },
  {
   "cell_type": "code",
   "execution_count": 13,
   "metadata": {},
   "outputs": [
    {
     "name": "stdout",
     "output_type": "stream",
     "text": [
      "dict_values(['Ayush', 29, 25000, 'tcs'])\n"
     ]
    }
   ],
   "source": [
    "a=employee.values() #returns values of dict.\n",
    "print(a)"
   ]
  },
  {
   "cell_type": "code",
   "execution_count": 14,
   "metadata": {},
   "outputs": [
    {
     "name": "stdout",
     "output_type": "stream",
     "text": [
      "{'Name': 'Ayush', 'Age': 29, 'salary': 25000, 'company': 'tcs', 'Rank': 3}\n"
     ]
    }
   ],
   "source": [
    "employee.update({'Rank':3}) #update dict. by adding key-value pair of dict. in argument to this dict.\n",
    "print(employee)"
   ]
  },
  {
   "cell_type": "code",
   "execution_count": 15,
   "metadata": {},
   "outputs": [
    {
     "name": "stdout",
     "output_type": "stream",
     "text": [
      "{'Name': 'Ayush', 'Age': 29, 'salary': 25000, 'company': 'tcs', 'Rank': 3}\n"
     ]
    }
   ],
   "source": [
    "x=employee.copy() #returns copy of dict.\n",
    "print(x)"
   ]
  },
  {
   "cell_type": "code",
   "execution_count": 16,
   "metadata": {},
   "outputs": [
    {
     "name": "stdout",
     "output_type": "stream",
     "text": [
      "Removed ('Rank', 3)\n"
     ]
    }
   ],
   "source": [
    "p=employee.popitem() #removes last pair of dict. and returns the pair.\n",
    "print('Removed',p)"
   ]
  },
  {
   "cell_type": "code",
   "execution_count": 17,
   "metadata": {},
   "outputs": [
    {
     "name": "stdout",
     "output_type": "stream",
     "text": [
      "{'Name': 'Ayush', 'Age': 29, 'company': 'tcs'}\n",
      "100\n"
     ]
    }
   ],
   "source": [
    "p=employee.pop('salary') #removes item associated to specified key.\n",
    "print(employee)\n",
    "p=employee.pop('salary',100) #returns default value if specified item associated to key is not present.\n",
    "print(p)"
   ]
  },
  {
   "cell_type": "code",
   "execution_count": 18,
   "metadata": {},
   "outputs": [
    {
     "name": "stdout",
     "output_type": "stream",
     "text": [
      "29\n",
      "None\n"
     ]
    }
   ],
   "source": [
    "c=employee.setdefault('Age',100) #returns the value of key if key is present otherwise return defaut which is none for python.\n",
    "print(c)\n",
    "c=employee.setdefault('Rank',)\n",
    "print(c)"
   ]
  },
  {
   "cell_type": "code",
   "execution_count": 19,
   "metadata": {},
   "outputs": [
    {
     "name": "stdout",
     "output_type": "stream",
     "text": [
      "Name:Rahul\n",
      "Age:23\n",
      "Salary:34000\n",
      "Company:Google\n",
      "{'Name': 'Rahul', 'Age': 23, 'company': 'Google', 'Rank': None, 'salary': 34000}\n"
     ]
    }
   ],
   "source": [
    "#updating dictionary values.\n",
    "\n",
    "employee['Name']=input('Name:')\n",
    "employee['Age']=int(input('Age:'))\n",
    "employee['salary']=int(input('Salary:'))\n",
    "employee['company']=input('Company:')\n",
    "print(employee)"
   ]
  },
  {
   "cell_type": "code",
   "execution_count": 20,
   "metadata": {},
   "outputs": [
    {
     "name": "stdout",
     "output_type": "stream",
     "text": [
      "{'Rank': None}\n"
     ]
    }
   ],
   "source": [
    "del employee[\"Name\"]\n",
    "del employee['company']\n",
    "del employee['Age']\n",
    "del employee['salary']\n",
    "print(employee)"
   ]
  },
  {
   "cell_type": "code",
   "execution_count": 21,
   "metadata": {},
   "outputs": [
    {
     "name": "stdout",
     "output_type": "stream",
     "text": [
      "{}\n"
     ]
    }
   ],
   "source": [
    "employee.clear() #used to delete all items of dict.\n",
    "print(employee)"
   ]
  }
 ],
 "metadata": {
  "kernelspec": {
   "display_name": "Python 3",
   "language": "python",
   "name": "python3"
  },
  "language_info": {
   "codemirror_mode": {
    "name": "ipython",
    "version": 3
   },
   "file_extension": ".py",
   "mimetype": "text/x-python",
   "name": "python",
   "nbconvert_exporter": "python",
   "pygments_lexer": "ipython3",
   "version": "3.6.5"
  }
 },
 "nbformat": 4,
 "nbformat_minor": 2
}
